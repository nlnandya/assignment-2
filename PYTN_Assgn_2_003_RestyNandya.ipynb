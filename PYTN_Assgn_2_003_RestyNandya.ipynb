{
 "cells": [
  {
   "cell_type": "markdown",
   "id": "295ba8de",
   "metadata": {},
   "source": [
    "# Import Library"
   ]
  },
  {
   "cell_type": "code",
   "execution_count": 658,
   "id": "177a8509",
   "metadata": {},
   "outputs": [],
   "source": [
    "import pandas as pd\n",
    "import numpy as np\n",
    "import statistics\n",
    "import seaborn as sns\n",
    "import statsmodels.api as sm\n",
    "from scipy.stats import shapiro\n",
    "from scipy.stats import normaltest\n",
    "from scipy.stats import anderson\n",
    "\n",
    "import warnings\n",
    "warnings.filterwarnings(\"ignore\")"
   ]
  },
  {
   "cell_type": "markdown",
   "id": "84b462ec",
   "metadata": {},
   "source": [
    "# Loading Data"
   ]
  },
  {
   "cell_type": "code",
   "execution_count": 659,
   "id": "9e4a4239",
   "metadata": {},
   "outputs": [],
   "source": [
    "pd.set_option(\"display.max_columns\", None)\n",
    "df = pd.read_csv(\"dataset/nyc-rolling-sales.csv\", skipinitialspace=True)"
   ]
  },
  {
   "cell_type": "markdown",
   "id": "21890366",
   "metadata": {},
   "source": [
    "Melihat 5 baris pertama"
   ]
  },
  {
   "cell_type": "code",
   "execution_count": 660,
   "id": "db9ba6a4",
   "metadata": {},
   "outputs": [
    {
     "data": {
      "text/html": [
       "<div>\n",
       "<style scoped>\n",
       "    .dataframe tbody tr th:only-of-type {\n",
       "        vertical-align: middle;\n",
       "    }\n",
       "\n",
       "    .dataframe tbody tr th {\n",
       "        vertical-align: top;\n",
       "    }\n",
       "\n",
       "    .dataframe thead th {\n",
       "        text-align: right;\n",
       "    }\n",
       "</style>\n",
       "<table border=\"1\" class=\"dataframe\">\n",
       "  <thead>\n",
       "    <tr style=\"text-align: right;\">\n",
       "      <th></th>\n",
       "      <th>Unnamed: 0</th>\n",
       "      <th>BOROUGH</th>\n",
       "      <th>NEIGHBORHOOD</th>\n",
       "      <th>BUILDING CLASS CATEGORY</th>\n",
       "      <th>TAX CLASS AT PRESENT</th>\n",
       "      <th>BLOCK</th>\n",
       "      <th>LOT</th>\n",
       "      <th>EASE-MENT</th>\n",
       "      <th>BUILDING CLASS AT PRESENT</th>\n",
       "      <th>ADDRESS</th>\n",
       "      <th>APARTMENT NUMBER</th>\n",
       "      <th>ZIP CODE</th>\n",
       "      <th>RESIDENTIAL UNITS</th>\n",
       "      <th>COMMERCIAL UNITS</th>\n",
       "      <th>TOTAL UNITS</th>\n",
       "      <th>LAND SQUARE FEET</th>\n",
       "      <th>GROSS SQUARE FEET</th>\n",
       "      <th>YEAR BUILT</th>\n",
       "      <th>TAX CLASS AT TIME OF SALE</th>\n",
       "      <th>BUILDING CLASS AT TIME OF SALE</th>\n",
       "      <th>SALE PRICE</th>\n",
       "      <th>SALE DATE</th>\n",
       "    </tr>\n",
       "  </thead>\n",
       "  <tbody>\n",
       "    <tr>\n",
       "      <th>0</th>\n",
       "      <td>4</td>\n",
       "      <td>1</td>\n",
       "      <td>ALPHABET CITY</td>\n",
       "      <td>07 RENTALS - WALKUP APARTMENTS</td>\n",
       "      <td>2A</td>\n",
       "      <td>392</td>\n",
       "      <td>6</td>\n",
       "      <td>NaN</td>\n",
       "      <td>C2</td>\n",
       "      <td>153 AVENUE B</td>\n",
       "      <td>NaN</td>\n",
       "      <td>10009</td>\n",
       "      <td>5</td>\n",
       "      <td>0</td>\n",
       "      <td>5</td>\n",
       "      <td>1633</td>\n",
       "      <td>6440</td>\n",
       "      <td>1900</td>\n",
       "      <td>2</td>\n",
       "      <td>C2</td>\n",
       "      <td>6625000</td>\n",
       "      <td>2017-07-19 00:00:00</td>\n",
       "    </tr>\n",
       "    <tr>\n",
       "      <th>1</th>\n",
       "      <td>5</td>\n",
       "      <td>1</td>\n",
       "      <td>ALPHABET CITY</td>\n",
       "      <td>07 RENTALS - WALKUP APARTMENTS</td>\n",
       "      <td>2</td>\n",
       "      <td>399</td>\n",
       "      <td>26</td>\n",
       "      <td>NaN</td>\n",
       "      <td>C7</td>\n",
       "      <td>234 EAST 4TH   STREET</td>\n",
       "      <td>NaN</td>\n",
       "      <td>10009</td>\n",
       "      <td>28</td>\n",
       "      <td>3</td>\n",
       "      <td>31</td>\n",
       "      <td>4616</td>\n",
       "      <td>18690</td>\n",
       "      <td>1900</td>\n",
       "      <td>2</td>\n",
       "      <td>C7</td>\n",
       "      <td>-</td>\n",
       "      <td>2016-12-14 00:00:00</td>\n",
       "    </tr>\n",
       "    <tr>\n",
       "      <th>2</th>\n",
       "      <td>6</td>\n",
       "      <td>1</td>\n",
       "      <td>ALPHABET CITY</td>\n",
       "      <td>07 RENTALS - WALKUP APARTMENTS</td>\n",
       "      <td>2</td>\n",
       "      <td>399</td>\n",
       "      <td>39</td>\n",
       "      <td>NaN</td>\n",
       "      <td>C7</td>\n",
       "      <td>197 EAST 3RD   STREET</td>\n",
       "      <td>NaN</td>\n",
       "      <td>10009</td>\n",
       "      <td>16</td>\n",
       "      <td>1</td>\n",
       "      <td>17</td>\n",
       "      <td>2212</td>\n",
       "      <td>7803</td>\n",
       "      <td>1900</td>\n",
       "      <td>2</td>\n",
       "      <td>C7</td>\n",
       "      <td>-</td>\n",
       "      <td>2016-12-09 00:00:00</td>\n",
       "    </tr>\n",
       "    <tr>\n",
       "      <th>3</th>\n",
       "      <td>7</td>\n",
       "      <td>1</td>\n",
       "      <td>ALPHABET CITY</td>\n",
       "      <td>07 RENTALS - WALKUP APARTMENTS</td>\n",
       "      <td>2B</td>\n",
       "      <td>402</td>\n",
       "      <td>21</td>\n",
       "      <td>NaN</td>\n",
       "      <td>C4</td>\n",
       "      <td>154 EAST 7TH STREET</td>\n",
       "      <td>NaN</td>\n",
       "      <td>10009</td>\n",
       "      <td>10</td>\n",
       "      <td>0</td>\n",
       "      <td>10</td>\n",
       "      <td>2272</td>\n",
       "      <td>6794</td>\n",
       "      <td>1913</td>\n",
       "      <td>2</td>\n",
       "      <td>C4</td>\n",
       "      <td>3936272</td>\n",
       "      <td>2016-09-23 00:00:00</td>\n",
       "    </tr>\n",
       "    <tr>\n",
       "      <th>4</th>\n",
       "      <td>8</td>\n",
       "      <td>1</td>\n",
       "      <td>ALPHABET CITY</td>\n",
       "      <td>07 RENTALS - WALKUP APARTMENTS</td>\n",
       "      <td>2A</td>\n",
       "      <td>404</td>\n",
       "      <td>55</td>\n",
       "      <td>NaN</td>\n",
       "      <td>C2</td>\n",
       "      <td>301 EAST 10TH   STREET</td>\n",
       "      <td>NaN</td>\n",
       "      <td>10009</td>\n",
       "      <td>6</td>\n",
       "      <td>0</td>\n",
       "      <td>6</td>\n",
       "      <td>2369</td>\n",
       "      <td>4615</td>\n",
       "      <td>1900</td>\n",
       "      <td>2</td>\n",
       "      <td>C2</td>\n",
       "      <td>8000000</td>\n",
       "      <td>2016-11-17 00:00:00</td>\n",
       "    </tr>\n",
       "  </tbody>\n",
       "</table>\n",
       "</div>"
      ],
      "text/plain": [
       "   Unnamed: 0  BOROUGH   NEIGHBORHOOD  \\\n",
       "0           4        1  ALPHABET CITY   \n",
       "1           5        1  ALPHABET CITY   \n",
       "2           6        1  ALPHABET CITY   \n",
       "3           7        1  ALPHABET CITY   \n",
       "4           8        1  ALPHABET CITY   \n",
       "\n",
       "                       BUILDING CLASS CATEGORY TAX CLASS AT PRESENT  BLOCK  \\\n",
       "0  07 RENTALS - WALKUP APARTMENTS                                2A    392   \n",
       "1  07 RENTALS - WALKUP APARTMENTS                                 2    399   \n",
       "2  07 RENTALS - WALKUP APARTMENTS                                 2    399   \n",
       "3  07 RENTALS - WALKUP APARTMENTS                                2B    402   \n",
       "4  07 RENTALS - WALKUP APARTMENTS                                2A    404   \n",
       "\n",
       "   LOT  EASE-MENT BUILDING CLASS AT PRESENT                 ADDRESS  \\\n",
       "0    6        NaN                        C2            153 AVENUE B   \n",
       "1   26        NaN                        C7   234 EAST 4TH   STREET   \n",
       "2   39        NaN                        C7   197 EAST 3RD   STREET   \n",
       "3   21        NaN                        C4     154 EAST 7TH STREET   \n",
       "4   55        NaN                        C2  301 EAST 10TH   STREET   \n",
       "\n",
       "  APARTMENT NUMBER  ZIP CODE  RESIDENTIAL UNITS  COMMERCIAL UNITS  \\\n",
       "0              NaN     10009                  5                 0   \n",
       "1              NaN     10009                 28                 3   \n",
       "2              NaN     10009                 16                 1   \n",
       "3              NaN     10009                 10                 0   \n",
       "4              NaN     10009                  6                 0   \n",
       "\n",
       "   TOTAL UNITS LAND SQUARE FEET GROSS SQUARE FEET  YEAR BUILT  \\\n",
       "0            5             1633              6440        1900   \n",
       "1           31             4616             18690        1900   \n",
       "2           17             2212              7803        1900   \n",
       "3           10             2272              6794        1913   \n",
       "4            6             2369              4615        1900   \n",
       "\n",
       "   TAX CLASS AT TIME OF SALE BUILDING CLASS AT TIME OF SALE SALE PRICE  \\\n",
       "0                          2                             C2    6625000   \n",
       "1                          2                             C7        -     \n",
       "2                          2                             C7        -     \n",
       "3                          2                             C4    3936272   \n",
       "4                          2                             C2    8000000   \n",
       "\n",
       "             SALE DATE  \n",
       "0  2017-07-19 00:00:00  \n",
       "1  2016-12-14 00:00:00  \n",
       "2  2016-12-09 00:00:00  \n",
       "3  2016-09-23 00:00:00  \n",
       "4  2016-11-17 00:00:00  "
      ]
     },
     "execution_count": 660,
     "metadata": {},
     "output_type": "execute_result"
    }
   ],
   "source": [
    "df.head()"
   ]
  },
  {
   "cell_type": "markdown",
   "id": "f1dc7e91",
   "metadata": {},
   "source": [
    "Melihat 5 baris terakhir"
   ]
  },
  {
   "cell_type": "code",
   "execution_count": 661,
   "id": "d505fb5f",
   "metadata": {},
   "outputs": [
    {
     "data": {
      "text/html": [
       "<div>\n",
       "<style scoped>\n",
       "    .dataframe tbody tr th:only-of-type {\n",
       "        vertical-align: middle;\n",
       "    }\n",
       "\n",
       "    .dataframe tbody tr th {\n",
       "        vertical-align: top;\n",
       "    }\n",
       "\n",
       "    .dataframe thead th {\n",
       "        text-align: right;\n",
       "    }\n",
       "</style>\n",
       "<table border=\"1\" class=\"dataframe\">\n",
       "  <thead>\n",
       "    <tr style=\"text-align: right;\">\n",
       "      <th></th>\n",
       "      <th>Unnamed: 0</th>\n",
       "      <th>BOROUGH</th>\n",
       "      <th>NEIGHBORHOOD</th>\n",
       "      <th>BUILDING CLASS CATEGORY</th>\n",
       "      <th>TAX CLASS AT PRESENT</th>\n",
       "      <th>BLOCK</th>\n",
       "      <th>LOT</th>\n",
       "      <th>EASE-MENT</th>\n",
       "      <th>BUILDING CLASS AT PRESENT</th>\n",
       "      <th>ADDRESS</th>\n",
       "      <th>APARTMENT NUMBER</th>\n",
       "      <th>ZIP CODE</th>\n",
       "      <th>RESIDENTIAL UNITS</th>\n",
       "      <th>COMMERCIAL UNITS</th>\n",
       "      <th>TOTAL UNITS</th>\n",
       "      <th>LAND SQUARE FEET</th>\n",
       "      <th>GROSS SQUARE FEET</th>\n",
       "      <th>YEAR BUILT</th>\n",
       "      <th>TAX CLASS AT TIME OF SALE</th>\n",
       "      <th>BUILDING CLASS AT TIME OF SALE</th>\n",
       "      <th>SALE PRICE</th>\n",
       "      <th>SALE DATE</th>\n",
       "    </tr>\n",
       "  </thead>\n",
       "  <tbody>\n",
       "    <tr>\n",
       "      <th>84543</th>\n",
       "      <td>8409</td>\n",
       "      <td>5</td>\n",
       "      <td>WOODROW</td>\n",
       "      <td>02 TWO FAMILY DWELLINGS</td>\n",
       "      <td>1</td>\n",
       "      <td>7349</td>\n",
       "      <td>34</td>\n",
       "      <td>NaN</td>\n",
       "      <td>B9</td>\n",
       "      <td>37 QUAIL LANE</td>\n",
       "      <td>NaN</td>\n",
       "      <td>10309</td>\n",
       "      <td>2</td>\n",
       "      <td>0</td>\n",
       "      <td>2</td>\n",
       "      <td>2400</td>\n",
       "      <td>2575</td>\n",
       "      <td>1998</td>\n",
       "      <td>1</td>\n",
       "      <td>B9</td>\n",
       "      <td>450000</td>\n",
       "      <td>2016-11-28 00:00:00</td>\n",
       "    </tr>\n",
       "    <tr>\n",
       "      <th>84544</th>\n",
       "      <td>8410</td>\n",
       "      <td>5</td>\n",
       "      <td>WOODROW</td>\n",
       "      <td>02 TWO FAMILY DWELLINGS</td>\n",
       "      <td>1</td>\n",
       "      <td>7349</td>\n",
       "      <td>78</td>\n",
       "      <td>NaN</td>\n",
       "      <td>B9</td>\n",
       "      <td>32 PHEASANT LANE</td>\n",
       "      <td>NaN</td>\n",
       "      <td>10309</td>\n",
       "      <td>2</td>\n",
       "      <td>0</td>\n",
       "      <td>2</td>\n",
       "      <td>2498</td>\n",
       "      <td>2377</td>\n",
       "      <td>1998</td>\n",
       "      <td>1</td>\n",
       "      <td>B9</td>\n",
       "      <td>550000</td>\n",
       "      <td>2017-04-21 00:00:00</td>\n",
       "    </tr>\n",
       "    <tr>\n",
       "      <th>84545</th>\n",
       "      <td>8411</td>\n",
       "      <td>5</td>\n",
       "      <td>WOODROW</td>\n",
       "      <td>02 TWO FAMILY DWELLINGS</td>\n",
       "      <td>1</td>\n",
       "      <td>7351</td>\n",
       "      <td>60</td>\n",
       "      <td>NaN</td>\n",
       "      <td>B2</td>\n",
       "      <td>49 PITNEY AVENUE</td>\n",
       "      <td>NaN</td>\n",
       "      <td>10309</td>\n",
       "      <td>2</td>\n",
       "      <td>0</td>\n",
       "      <td>2</td>\n",
       "      <td>4000</td>\n",
       "      <td>1496</td>\n",
       "      <td>1925</td>\n",
       "      <td>1</td>\n",
       "      <td>B2</td>\n",
       "      <td>460000</td>\n",
       "      <td>2017-07-05 00:00:00</td>\n",
       "    </tr>\n",
       "    <tr>\n",
       "      <th>84546</th>\n",
       "      <td>8412</td>\n",
       "      <td>5</td>\n",
       "      <td>WOODROW</td>\n",
       "      <td>22 STORE BUILDINGS</td>\n",
       "      <td>4</td>\n",
       "      <td>7100</td>\n",
       "      <td>28</td>\n",
       "      <td>NaN</td>\n",
       "      <td>K6</td>\n",
       "      <td>2730 ARTHUR KILL ROAD</td>\n",
       "      <td>NaN</td>\n",
       "      <td>10309</td>\n",
       "      <td>0</td>\n",
       "      <td>7</td>\n",
       "      <td>7</td>\n",
       "      <td>208033</td>\n",
       "      <td>64117</td>\n",
       "      <td>2001</td>\n",
       "      <td>4</td>\n",
       "      <td>K6</td>\n",
       "      <td>11693337</td>\n",
       "      <td>2016-12-21 00:00:00</td>\n",
       "    </tr>\n",
       "    <tr>\n",
       "      <th>84547</th>\n",
       "      <td>8413</td>\n",
       "      <td>5</td>\n",
       "      <td>WOODROW</td>\n",
       "      <td>35 INDOOR PUBLIC AND CULTURAL FACILITIES</td>\n",
       "      <td>4</td>\n",
       "      <td>7105</td>\n",
       "      <td>679</td>\n",
       "      <td>NaN</td>\n",
       "      <td>P9</td>\n",
       "      <td>155 CLAY PIT ROAD</td>\n",
       "      <td>NaN</td>\n",
       "      <td>10309</td>\n",
       "      <td>0</td>\n",
       "      <td>1</td>\n",
       "      <td>1</td>\n",
       "      <td>10796</td>\n",
       "      <td>2400</td>\n",
       "      <td>2006</td>\n",
       "      <td>4</td>\n",
       "      <td>P9</td>\n",
       "      <td>69300</td>\n",
       "      <td>2016-10-27 00:00:00</td>\n",
       "    </tr>\n",
       "  </tbody>\n",
       "</table>\n",
       "</div>"
      ],
      "text/plain": [
       "       Unnamed: 0  BOROUGH NEIGHBORHOOD  \\\n",
       "84543        8409        5      WOODROW   \n",
       "84544        8410        5      WOODROW   \n",
       "84545        8411        5      WOODROW   \n",
       "84546        8412        5      WOODROW   \n",
       "84547        8413        5      WOODROW   \n",
       "\n",
       "                           BUILDING CLASS CATEGORY TAX CLASS AT PRESENT  \\\n",
       "84543  02 TWO FAMILY DWELLINGS                                        1   \n",
       "84544  02 TWO FAMILY DWELLINGS                                        1   \n",
       "84545  02 TWO FAMILY DWELLINGS                                        1   \n",
       "84546  22 STORE BUILDINGS                                             4   \n",
       "84547  35 INDOOR PUBLIC AND CULTURAL FACILITIES                       4   \n",
       "\n",
       "       BLOCK  LOT  EASE-MENT BUILDING CLASS AT PRESENT                ADDRESS  \\\n",
       "84543   7349   34        NaN                        B9          37 QUAIL LANE   \n",
       "84544   7349   78        NaN                        B9       32 PHEASANT LANE   \n",
       "84545   7351   60        NaN                        B2       49 PITNEY AVENUE   \n",
       "84546   7100   28        NaN                        K6  2730 ARTHUR KILL ROAD   \n",
       "84547   7105  679        NaN                        P9      155 CLAY PIT ROAD   \n",
       "\n",
       "      APARTMENT NUMBER  ZIP CODE  RESIDENTIAL UNITS  COMMERCIAL UNITS  \\\n",
       "84543              NaN     10309                  2                 0   \n",
       "84544              NaN     10309                  2                 0   \n",
       "84545              NaN     10309                  2                 0   \n",
       "84546              NaN     10309                  0                 7   \n",
       "84547              NaN     10309                  0                 1   \n",
       "\n",
       "       TOTAL UNITS LAND SQUARE FEET GROSS SQUARE FEET  YEAR BUILT  \\\n",
       "84543            2             2400              2575        1998   \n",
       "84544            2             2498              2377        1998   \n",
       "84545            2             4000              1496        1925   \n",
       "84546            7           208033             64117        2001   \n",
       "84547            1            10796              2400        2006   \n",
       "\n",
       "       TAX CLASS AT TIME OF SALE BUILDING CLASS AT TIME OF SALE SALE PRICE  \\\n",
       "84543                          1                             B9     450000   \n",
       "84544                          1                             B9     550000   \n",
       "84545                          1                             B2     460000   \n",
       "84546                          4                             K6   11693337   \n",
       "84547                          4                             P9      69300   \n",
       "\n",
       "                 SALE DATE  \n",
       "84543  2016-11-28 00:00:00  \n",
       "84544  2017-04-21 00:00:00  \n",
       "84545  2017-07-05 00:00:00  \n",
       "84546  2016-12-21 00:00:00  \n",
       "84547  2016-10-27 00:00:00  "
      ]
     },
     "execution_count": 661,
     "metadata": {},
     "output_type": "execute_result"
    }
   ],
   "source": [
    "df.tail()"
   ]
  },
  {
   "cell_type": "markdown",
   "id": "608c36de",
   "metadata": {},
   "source": [
    "Melihat dimensi pada data"
   ]
  },
  {
   "cell_type": "code",
   "execution_count": 662,
   "id": "56208838",
   "metadata": {},
   "outputs": [
    {
     "data": {
      "text/plain": [
       "(84548, 22)"
      ]
     },
     "execution_count": 662,
     "metadata": {},
     "output_type": "execute_result"
    }
   ],
   "source": [
    "df.shape"
   ]
  },
  {
   "cell_type": "markdown",
   "id": "ad4f4e2e",
   "metadata": {},
   "source": [
    "Melihat ringkasan pada data"
   ]
  },
  {
   "cell_type": "code",
   "execution_count": 663,
   "id": "99c2d6c4",
   "metadata": {},
   "outputs": [
    {
     "name": "stdout",
     "output_type": "stream",
     "text": [
      "<class 'pandas.core.frame.DataFrame'>\n",
      "RangeIndex: 84548 entries, 0 to 84547\n",
      "Data columns (total 22 columns):\n",
      " #   Column                          Non-Null Count  Dtype  \n",
      "---  ------                          --------------  -----  \n",
      " 0   Unnamed: 0                      84548 non-null  int64  \n",
      " 1   BOROUGH                         84548 non-null  int64  \n",
      " 2   NEIGHBORHOOD                    84548 non-null  object \n",
      " 3   BUILDING CLASS CATEGORY         84548 non-null  object \n",
      " 4   TAX CLASS AT PRESENT            83810 non-null  object \n",
      " 5   BLOCK                           84548 non-null  int64  \n",
      " 6   LOT                             84548 non-null  int64  \n",
      " 7   EASE-MENT                       0 non-null      float64\n",
      " 8   BUILDING CLASS AT PRESENT       83810 non-null  object \n",
      " 9   ADDRESS                         84548 non-null  object \n",
      " 10  APARTMENT NUMBER                19052 non-null  object \n",
      " 11  ZIP CODE                        84548 non-null  int64  \n",
      " 12  RESIDENTIAL UNITS               84548 non-null  int64  \n",
      " 13  COMMERCIAL UNITS                84548 non-null  int64  \n",
      " 14  TOTAL UNITS                     84548 non-null  int64  \n",
      " 15  LAND SQUARE FEET                84548 non-null  object \n",
      " 16  GROSS SQUARE FEET               84548 non-null  object \n",
      " 17  YEAR BUILT                      84548 non-null  int64  \n",
      " 18  TAX CLASS AT TIME OF SALE       84548 non-null  int64  \n",
      " 19  BUILDING CLASS AT TIME OF SALE  84548 non-null  object \n",
      " 20  SALE PRICE                      84548 non-null  object \n",
      " 21  SALE DATE                       84548 non-null  object \n",
      "dtypes: float64(1), int64(10), object(11)\n",
      "memory usage: 14.2+ MB\n"
     ]
    }
   ],
   "source": [
    "df.info()"
   ]
  },
  {
   "cell_type": "markdown",
   "id": "dcbd3c9e",
   "metadata": {},
   "source": [
    "Berdasarkan keterangan diatas, menunjukkan pada dataset ini memiliki 84548 baris dan 22 kolom. Adapun untuk type data terdiri dari int64, object, dan float."
   ]
  },
  {
   "cell_type": "markdown",
   "id": "b0fb3219",
   "metadata": {},
   "source": [
    "Berdasarkan deskripsi pada Kaggle, Kode digit untuk kolom \"BOROUGH\" berada dalam urutan: \n",
    "- Manhattan (1)\n",
    "- Bronx (2)\n",
    "- Brooklyn (3)\n",
    "- Queens (4)\n",
    "- Staten Island (5)."
   ]
  },
  {
   "cell_type": "code",
   "execution_count": 664,
   "id": "75cabe57",
   "metadata": {},
   "outputs": [],
   "source": [
    "# Replace \"BOROUGH\" column\n",
    "df[\"BOROUGH\"] = df[\"BOROUGH\"].replace({1:\"Manhattan\", 2:\"Bronx\", 3:\"Brooklyn\", 4:\"Queens\", 5:\"Staten Island\"})"
   ]
  },
  {
   "cell_type": "markdown",
   "id": "53499361",
   "metadata": {},
   "source": [
    "Konversi type data berdasarkan value yang sesuai"
   ]
  },
  {
   "cell_type": "code",
   "execution_count": 665,
   "id": "b0b435a7",
   "metadata": {},
   "outputs": [],
   "source": [
    "# convert type data object to float\n",
    "num = [\"SALE PRICE\", \"LAND SQUARE FEET\", \"GROSS SQUARE FEET\"]\n",
    "\n",
    "for col in num: \n",
    "    df[col] = pd.to_numeric(df[col], errors=\"coerce\")"
   ]
  },
  {
   "cell_type": "code",
   "execution_count": 666,
   "id": "d0d0c533",
   "metadata": {},
   "outputs": [],
   "source": [
    "# Convert type data object to datetime from \"SALE DATE\" column\n",
    "df[\"SALE DATE\"] = pd.to_datetime(df[\"SALE DATE\"])\n",
    "\n",
    "# Add column \"SALE Month\" and \"SALE YEAR\" based on \"SALE DATE\"\n",
    "df[\"SALE MONTH\"] = pd.DatetimeIndex(df[\"SALE DATE\"]).month\n",
    "df[\"SALE YEAR\"] = pd.DatetimeIndex(df[\"SALE DATE\"]).year"
   ]
  },
  {
   "cell_type": "code",
   "execution_count": 667,
   "id": "ce151b9b",
   "metadata": {},
   "outputs": [
    {
     "name": "stdout",
     "output_type": "stream",
     "text": [
      "<class 'pandas.core.frame.DataFrame'>\n",
      "RangeIndex: 84548 entries, 0 to 84547\n",
      "Data columns (total 24 columns):\n",
      " #   Column                          Non-Null Count  Dtype         \n",
      "---  ------                          --------------  -----         \n",
      " 0   Unnamed: 0                      84548 non-null  int64         \n",
      " 1   BOROUGH                         84548 non-null  object        \n",
      " 2   NEIGHBORHOOD                    84548 non-null  object        \n",
      " 3   BUILDING CLASS CATEGORY         84548 non-null  object        \n",
      " 4   TAX CLASS AT PRESENT            83810 non-null  object        \n",
      " 5   BLOCK                           84548 non-null  int64         \n",
      " 6   LOT                             84548 non-null  int64         \n",
      " 7   EASE-MENT                       0 non-null      float64       \n",
      " 8   BUILDING CLASS AT PRESENT       83810 non-null  object        \n",
      " 9   ADDRESS                         84548 non-null  object        \n",
      " 10  APARTMENT NUMBER                19052 non-null  object        \n",
      " 11  ZIP CODE                        84548 non-null  int64         \n",
      " 12  RESIDENTIAL UNITS               84548 non-null  int64         \n",
      " 13  COMMERCIAL UNITS                84548 non-null  int64         \n",
      " 14  TOTAL UNITS                     84548 non-null  int64         \n",
      " 15  LAND SQUARE FEET                58296 non-null  float64       \n",
      " 16  GROSS SQUARE FEET               56936 non-null  float64       \n",
      " 17  YEAR BUILT                      84548 non-null  int64         \n",
      " 18  TAX CLASS AT TIME OF SALE       84548 non-null  int64         \n",
      " 19  BUILDING CLASS AT TIME OF SALE  84548 non-null  object        \n",
      " 20  SALE PRICE                      69987 non-null  float64       \n",
      " 21  SALE DATE                       84548 non-null  datetime64[ns]\n",
      " 22  SALE MONTH                      84548 non-null  int64         \n",
      " 23  SALE YEAR                       84548 non-null  int64         \n",
      "dtypes: datetime64[ns](1), float64(4), int64(11), object(8)\n",
      "memory usage: 15.5+ MB\n"
     ]
    }
   ],
   "source": [
    "df.info()"
   ]
  },
  {
   "cell_type": "markdown",
   "id": "aba752c8",
   "metadata": {},
   "source": [
    "Type data diatas sudah sesuai dengan value dari masing-masing kolom"
   ]
  },
  {
   "cell_type": "markdown",
   "id": "ab0d15d4",
   "metadata": {},
   "source": [
    "# Cleaning Data"
   ]
  },
  {
   "cell_type": "markdown",
   "id": "1678bfbc",
   "metadata": {},
   "source": [
    "Melihat ringkasan nilai yang hilang pada masing-masing kolom"
   ]
  },
  {
   "cell_type": "code",
   "execution_count": 668,
   "id": "a5778cd0",
   "metadata": {},
   "outputs": [
    {
     "data": {
      "text/plain": [
       "Unnamed: 0                            0\n",
       "BOROUGH                               0\n",
       "NEIGHBORHOOD                          0\n",
       "BUILDING CLASS CATEGORY               0\n",
       "TAX CLASS AT PRESENT                738\n",
       "BLOCK                                 0\n",
       "LOT                                   0\n",
       "EASE-MENT                         84548\n",
       "BUILDING CLASS AT PRESENT           738\n",
       "ADDRESS                               0\n",
       "APARTMENT NUMBER                  65496\n",
       "ZIP CODE                              0\n",
       "RESIDENTIAL UNITS                     0\n",
       "COMMERCIAL UNITS                      0\n",
       "TOTAL UNITS                           0\n",
       "LAND SQUARE FEET                  26252\n",
       "GROSS SQUARE FEET                 27612\n",
       "YEAR BUILT                            0\n",
       "TAX CLASS AT TIME OF SALE             0\n",
       "BUILDING CLASS AT TIME OF SALE        0\n",
       "SALE PRICE                        14561\n",
       "SALE DATE                             0\n",
       "SALE MONTH                            0\n",
       "SALE YEAR                             0\n",
       "dtype: int64"
      ]
     },
     "execution_count": 668,
     "metadata": {},
     "output_type": "execute_result"
    }
   ],
   "source": [
    "df.isnull().sum()"
   ]
  },
  {
   "cell_type": "markdown",
   "id": "889dcd5c",
   "metadata": {},
   "source": [
    "Berdasarkan keterangan diatas, menunjukkan missing values dari masing-masing kolom, diantaranya adalah:\n",
    "\n",
    "- Pada kolom \"TAX CLASS AT PRESENT\" terdapat 738 missing value.\n",
    "- Pada kolom \"EASE-MENT\" terdapat 84548 missing value, dimana seluruh rows pada kolom tersebut tidak memiliki nilai.\n",
    "- Pada kolom \"BUILDING CLASS AT PRESENT\" terdapat 738 missing value.\n",
    "- Pada kolom \"APARTMENT NUMBER\" terdapat 65496 missing value, dimana hampir seluruh rows pada kolom tersebut tidak memiliki nilai.\n",
    "- Pada kolom \"LAND SQUARE FEET\" terdapat 26252 missing value.\n",
    "- Pada kolom \"GROSS SQUARE FEET\" terdapat 27612 missing value.\n",
    "- Pada kolom \"SALE PRICE\" terdapat 14561 missing value."
   ]
  },
  {
   "cell_type": "markdown",
   "id": "56072dff",
   "metadata": {},
   "source": [
    "Hapus kolom \"Unnamed: 0\", \"EASE-MENT\", \"APARTMENT NUMBER\" karena tidak diperlukan"
   ]
  },
  {
   "cell_type": "code",
   "execution_count": 669,
   "id": "5a7054e8",
   "metadata": {},
   "outputs": [],
   "source": [
    "# drop \"Unnamed: 0\" column\n",
    "df.drop([\"Unnamed: 0\", \"EASE-MENT\", \"APARTMENT NUMBER\"], axis = 1, inplace = True)"
   ]
  },
  {
   "cell_type": "markdown",
   "id": "36c30703",
   "metadata": {},
   "source": [
    "Cek duplikasi data pada dataframe"
   ]
  },
  {
   "cell_type": "code",
   "execution_count": 670,
   "id": "87cea827",
   "metadata": {},
   "outputs": [
    {
     "name": "stdout",
     "output_type": "stream",
     "text": [
      "Jumlah duplikasi data pada data:  765\n"
     ]
    }
   ],
   "source": [
    "print(\"Jumlah duplikasi data pada data: \", sum(df.duplicated()))"
   ]
  },
  {
   "cell_type": "markdown",
   "id": "a5ab6352",
   "metadata": {},
   "source": [
    "Hapus dan Cek kembali Duplikasi Data"
   ]
  },
  {
   "cell_type": "code",
   "execution_count": 671,
   "id": "0221850f",
   "metadata": {},
   "outputs": [
    {
     "name": "stdout",
     "output_type": "stream",
     "text": [
      "Total Duplikasi data setelah di hapus: 0\n",
      "Jumlah baris pada data menjadi:  (83783, 21)\n"
     ]
    }
   ],
   "source": [
    "# delete duplicate data\n",
    "df.drop_duplicates(inplace = True)\n",
    "print(\"Total Duplikasi data setelah di hapus:\", sum(df.duplicated()))\n",
    "\n",
    "# Dimension dataset\n",
    "print(\"Jumlah baris pada data menjadi: \", df.shape)"
   ]
  },
  {
   "cell_type": "markdown",
   "id": "10807dfd",
   "metadata": {},
   "source": [
    "Mengisi missing value pada kolom \"LAND SQUARE FEET\" dan \"GROSS SQUARE FEET\" menggunakan data MEAN pada kolom tersebut"
   ]
  },
  {
   "cell_type": "code",
   "execution_count": 672,
   "id": "2b3e2d56",
   "metadata": {},
   "outputs": [],
   "source": [
    "# Handling Missing Value ini the \"LAND SQUARE FEET\" column\n",
    "df[\"LAND SQUARE FEET\"].fillna(df[\"LAND SQUARE FEET\"].mean(), inplace = True)\n",
    "\n",
    "# Handling Missing Value ini the \"GROSS SQUARE FEET\" column\n",
    "df[\"GROSS SQUARE FEET\"].fillna(df[\"GROSS SQUARE FEET\"].mean(), inplace = True)"
   ]
  },
  {
   "cell_type": "markdown",
   "id": "e9f4e8fb",
   "metadata": {},
   "source": [
    "Mengisi missing value pada kolom \"TAX CLASS AT PRESENT\" dan \"BUILDING CLASS AT PRESENT\" menggunakan data MODE pada kolom tersebut"
   ]
  },
  {
   "cell_type": "code",
   "execution_count": 673,
   "id": "1bcfcd3a",
   "metadata": {},
   "outputs": [],
   "source": [
    "# Handling Missing Value in the \"TAX CLASS AT PRESENT\" column\n",
    "df[\"TAX CLASS AT PRESENT\"].fillna(df[\"TAX CLASS AT PRESENT\"].mode()[0], inplace=True)\n",
    "\n",
    "# Handling Missing Value in the \"BUILDING CLASS AT PRESENT\" column\n",
    "df[\"BUILDING CLASS AT PRESENT\"].fillna(df[\"BUILDING CLASS AT PRESENT\"].mode()[0], inplace = True)"
   ]
  },
  {
   "cell_type": "markdown",
   "id": "8d9d153e",
   "metadata": {},
   "source": [
    "Menghapus missing value dan nilai 0 pada kolom \"ZIP CODE\", \"LAND SQUARE FEET\", \"GROSS SQUARE FEET\", \"TOTAL UNITS\", \"YEAR BUILT\" dan \"SALE PRICE\""
   ]
  },
  {
   "cell_type": "code",
   "execution_count": 674,
   "id": "c8acd9ec",
   "metadata": {},
   "outputs": [],
   "source": [
    "df = df[df[\"ZIP CODE\"]!= 0]\n",
    "df = df[df[\"LAND SQUARE FEET\"] != 0]\n",
    "df = df[df[ \"GROSS SQUARE FEET\"] != 0]\n",
    "df = df[df[ \"TOTAL UNITS\"] != 0]\n",
    "df = df[df[\"YEAR BUILT\"] != 0]\n",
    "df = df[df[\"SALE PRICE\"] != 0]\n",
    "df.dropna(subset=[\"SALE PRICE\"], inplace=True)"
   ]
  },
  {
   "cell_type": "markdown",
   "id": "1c6b0ca0",
   "metadata": {},
   "source": [
    "Melihat ringkasan dari data setelah dihapus nya nilai 0."
   ]
  },
  {
   "cell_type": "code",
   "execution_count": 675,
   "id": "cc23c95c",
   "metadata": {
    "scrolled": false
   },
   "outputs": [
    {
     "name": "stdout",
     "output_type": "stream",
     "text": [
      "<class 'pandas.core.frame.DataFrame'>\n",
      "Int64Index: 36814 entries, 0 to 84547\n",
      "Data columns (total 21 columns):\n",
      " #   Column                          Non-Null Count  Dtype         \n",
      "---  ------                          --------------  -----         \n",
      " 0   BOROUGH                         36814 non-null  object        \n",
      " 1   NEIGHBORHOOD                    36814 non-null  object        \n",
      " 2   BUILDING CLASS CATEGORY         36814 non-null  object        \n",
      " 3   TAX CLASS AT PRESENT            36814 non-null  object        \n",
      " 4   BLOCK                           36814 non-null  int64         \n",
      " 5   LOT                             36814 non-null  int64         \n",
      " 6   BUILDING CLASS AT PRESENT       36814 non-null  object        \n",
      " 7   ADDRESS                         36814 non-null  object        \n",
      " 8   ZIP CODE                        36814 non-null  int64         \n",
      " 9   RESIDENTIAL UNITS               36814 non-null  int64         \n",
      " 10  COMMERCIAL UNITS                36814 non-null  int64         \n",
      " 11  TOTAL UNITS                     36814 non-null  int64         \n",
      " 12  LAND SQUARE FEET                36814 non-null  float64       \n",
      " 13  GROSS SQUARE FEET               36814 non-null  float64       \n",
      " 14  YEAR BUILT                      36814 non-null  int64         \n",
      " 15  TAX CLASS AT TIME OF SALE       36814 non-null  int64         \n",
      " 16  BUILDING CLASS AT TIME OF SALE  36814 non-null  object        \n",
      " 17  SALE PRICE                      36814 non-null  float64       \n",
      " 18  SALE DATE                       36814 non-null  datetime64[ns]\n",
      " 19  SALE MONTH                      36814 non-null  int64         \n",
      " 20  SALE YEAR                       36814 non-null  int64         \n",
      "dtypes: datetime64[ns](1), float64(3), int64(10), object(7)\n",
      "memory usage: 6.2+ MB\n"
     ]
    }
   ],
   "source": [
    "df.info()"
   ]
  },
  {
   "cell_type": "markdown",
   "id": "020ed478",
   "metadata": {},
   "source": [
    "Melihat kembali ringkasan nilai yang hilang pada masing-masing kolom"
   ]
  },
  {
   "cell_type": "code",
   "execution_count": 676,
   "id": "9d8c2644",
   "metadata": {},
   "outputs": [
    {
     "data": {
      "text/plain": [
       "BOROUGH                           0\n",
       "NEIGHBORHOOD                      0\n",
       "BUILDING CLASS CATEGORY           0\n",
       "TAX CLASS AT PRESENT              0\n",
       "BLOCK                             0\n",
       "LOT                               0\n",
       "BUILDING CLASS AT PRESENT         0\n",
       "ADDRESS                           0\n",
       "ZIP CODE                          0\n",
       "RESIDENTIAL UNITS                 0\n",
       "COMMERCIAL UNITS                  0\n",
       "TOTAL UNITS                       0\n",
       "LAND SQUARE FEET                  0\n",
       "GROSS SQUARE FEET                 0\n",
       "YEAR BUILT                        0\n",
       "TAX CLASS AT TIME OF SALE         0\n",
       "BUILDING CLASS AT TIME OF SALE    0\n",
       "SALE PRICE                        0\n",
       "SALE DATE                         0\n",
       "SALE MONTH                        0\n",
       "SALE YEAR                         0\n",
       "dtype: int64"
      ]
     },
     "execution_count": 676,
     "metadata": {},
     "output_type": "execute_result"
    }
   ],
   "source": [
    "df.isnull().sum()"
   ]
  },
  {
   "cell_type": "markdown",
   "id": "30c042b0",
   "metadata": {},
   "source": [
    "# Measure of Central Tendency"
   ]
  },
  {
   "cell_type": "markdown",
   "id": "b531ee8c",
   "metadata": {},
   "source": [
    "## Mean"
   ]
  },
  {
   "cell_type": "markdown",
   "id": "621f0b44",
   "metadata": {},
   "source": [
    "Mean (rata-rata) Sale Price di New York"
   ]
  },
  {
   "cell_type": "code",
   "execution_count": 677,
   "id": "fbfdb3f2",
   "metadata": {},
   "outputs": [
    {
     "name": "stdout",
     "output_type": "stream",
     "text": [
      "Mean (rata-rata) Sale Price di 5 Borough New York adalah 1790414.64\n"
     ]
    }
   ],
   "source": [
    "mean_sale_price = df[\"SALE PRICE\"].mean()\n",
    "print(\"Mean (rata-rata) Sale Price di 5 Borough New York adalah {:.2f}\".format(mean_sale_price))"
   ]
  },
  {
   "cell_type": "markdown",
   "id": "31b84668",
   "metadata": {},
   "source": [
    "Mean (rata-rata) Sale Price di setiap Borough di Kota New York"
   ]
  },
  {
   "cell_type": "code",
   "execution_count": 678,
   "id": "f3eaeaff",
   "metadata": {},
   "outputs": [
    {
     "name": "stdout",
     "output_type": "stream",
     "text": [
      "Baris data: 5939\n",
      "Mean (rata-rata) Sale Price di Manhattan adalah 5883647.47\n"
     ]
    }
   ],
   "source": [
    "manhattan = df[df[\"BOROUGH\"] == \"Manhattan\"]\n",
    "mean_mht = manhattan[\"SALE PRICE\"].mean()\n",
    "\n",
    "print(\"Baris data:\", len(manhattan))\n",
    "print(\"Mean (rata-rata) Sale Price di Manhattan adalah {:.2f}\".format(mean_mht))"
   ]
  },
  {
   "cell_type": "code",
   "execution_count": 679,
   "id": "08f384d9",
   "metadata": {},
   "outputs": [
    {
     "name": "stdout",
     "output_type": "stream",
     "text": [
      "Baris data: 3503\n",
      "Mean (rata-rata) Sale Price di Bronx adalah 1023815.62\n"
     ]
    }
   ],
   "source": [
    "bronx = df[df[\"BOROUGH\"] == \"Bronx\"]\n",
    "mean_brx = bronx[\"SALE PRICE\"].mean()\n",
    "\n",
    "print(\"Baris data:\", len(bronx))\n",
    "print(\"Mean (rata-rata) Sale Price di Bronx adalah {:.2f}\".format(mean_brx))"
   ]
  },
  {
   "cell_type": "code",
   "execution_count": 680,
   "id": "381ab357",
   "metadata": {},
   "outputs": [
    {
     "name": "stdout",
     "output_type": "stream",
     "text": [
      "Baris data: 8619\n",
      "Mean (rata-rata) Sale Price di Brooklyn adalah 1506006.42\n"
     ]
    }
   ],
   "source": [
    "brooklyn = df[df[\"BOROUGH\"] == \"Brooklyn\"]\n",
    "mean_brk = brooklyn[\"SALE PRICE\"].mean()\n",
    "\n",
    "print(\"Baris data:\", len(brooklyn))\n",
    "print(\"Mean (rata-rata) Sale Price di Brooklyn adalah {:.2f}\".format(mean_brk))"
   ]
  },
  {
   "cell_type": "code",
   "execution_count": 681,
   "id": "020532aa",
   "metadata": {},
   "outputs": [
    {
     "name": "stdout",
     "output_type": "stream",
     "text": [
      "Baris data: 13044\n",
      "Mean (rata-rata) Sale Price di Queens adalah 881846.32\n"
     ]
    }
   ],
   "source": [
    "queens = df[df[\"BOROUGH\"] == \"Queens\"]\n",
    "mean_qns = queens[\"SALE PRICE\"].mean()\n",
    "\n",
    "print(\"Baris data:\", len(queens))\n",
    "print(\"Mean (rata-rata) Sale Price di Queens adalah {:.2f}\".format(mean_qns))"
   ]
  },
  {
   "cell_type": "code",
   "execution_count": 682,
   "id": "7523079c",
   "metadata": {},
   "outputs": [
    {
     "name": "stdout",
     "output_type": "stream",
     "text": [
      "Baris data: 5709\n",
      "Mean (rata-rata) Sale Price di Staten Island adalah 507942.43\n"
     ]
    }
   ],
   "source": [
    "staten_island = df[df[\"BOROUGH\"] == \"Staten Island\"]\n",
    "mean_si = staten_island[\"SALE PRICE\"].mean()\n",
    "\n",
    "print(\"Baris data:\", len(staten_island))\n",
    "print(\"Mean (rata-rata) Sale Price di Staten Island adalah {:.2f}\".format(mean_si))"
   ]
  },
  {
   "cell_type": "markdown",
   "id": "54e30d56",
   "metadata": {},
   "source": [
    "## Median"
   ]
  },
  {
   "cell_type": "markdown",
   "id": "907a6ecb",
   "metadata": {},
   "source": [
    "Median (nilai tengah) Sale Price di New York"
   ]
  },
  {
   "cell_type": "code",
   "execution_count": 683,
   "id": "88f188bb",
   "metadata": {},
   "outputs": [
    {
     "name": "stdout",
     "output_type": "stream",
     "text": [
      "Median (nilai tengah) Sale Price di 5 Borough New York adalah 1790414.64\n"
     ]
    }
   ],
   "source": [
    "median_sale_price = df[\"SALE PRICE\"].mean()\n",
    "print(\"Median (nilai tengah) Sale Price di 5 Borough New York adalah {:.2f}\".format(median_sale_price))"
   ]
  },
  {
   "cell_type": "markdown",
   "id": "f7d6d76f",
   "metadata": {},
   "source": [
    "Median (nilai tengah) Sale Price di setiap Borough di Kota New York"
   ]
  },
  {
   "cell_type": "code",
   "execution_count": 684,
   "id": "6efe90af",
   "metadata": {},
   "outputs": [
    {
     "name": "stdout",
     "output_type": "stream",
     "text": [
      "Median (nilai tengah) Sale Price di Manhattan adalah 1890000.00\n"
     ]
    }
   ],
   "source": [
    "median_mht = manhattan[\"SALE PRICE\"].median()\n",
    "print(\"Median (nilai tengah) Sale Price di Manhattan adalah {:.2f}\".format(median_mht))"
   ]
  },
  {
   "cell_type": "code",
   "execution_count": 685,
   "id": "4dd653b7",
   "metadata": {},
   "outputs": [
    {
     "name": "stdout",
     "output_type": "stream",
     "text": [
      "Median (nilai tengah) Sale Price di Bronx adalah 480000.00\n"
     ]
    }
   ],
   "source": [
    "median_brx = bronx[\"SALE PRICE\"].median()\n",
    "print(\"Median (nilai tengah) Sale Price di Bronx adalah {:.2f}\".format(median_brx))"
   ]
  },
  {
   "cell_type": "code",
   "execution_count": 686,
   "id": "5c82cb75",
   "metadata": {},
   "outputs": [
    {
     "name": "stdout",
     "output_type": "stream",
     "text": [
      "Median (nilai tengah) Sale Price di Brooklyn adalah 850000.00\n"
     ]
    }
   ],
   "source": [
    "median_brk = brooklyn[\"SALE PRICE\"].median()\n",
    "print(\"Median (nilai tengah) Sale Price di Brooklyn adalah {:.2f}\".format(median_brk))"
   ]
  },
  {
   "cell_type": "code",
   "execution_count": 687,
   "id": "507fa516",
   "metadata": {},
   "outputs": [
    {
     "name": "stdout",
     "output_type": "stream",
     "text": [
      "Median (nilai tengah) Sale Price di Queens adalah 630000.00\n"
     ]
    }
   ],
   "source": [
    "median_qns = queens[\"SALE PRICE\"].median()\n",
    "print(\"Median (nilai tengah) Sale Price di Queens adalah {:.2f}\".format(median_qns))"
   ]
  },
  {
   "cell_type": "code",
   "execution_count": 688,
   "id": "bd07cf8b",
   "metadata": {},
   "outputs": [
    {
     "name": "stdout",
     "output_type": "stream",
     "text": [
      "Median (nilai tengah) Sale Price di Staten Island adalah 470000.00\n"
     ]
    }
   ],
   "source": [
    "median_si = staten_island[\"SALE PRICE\"].median()\n",
    "print(\"Median (nilai tengah) Sale Price di Staten Island adalah {:.2f}\".format(median_si))"
   ]
  },
  {
   "cell_type": "markdown",
   "id": "3b4477e6",
   "metadata": {},
   "source": [
    "## Mode"
   ]
  },
  {
   "cell_type": "markdown",
   "id": "e78d041e",
   "metadata": {},
   "source": [
    "Median (nilai tengah) Sale Price di New York"
   ]
  },
  {
   "cell_type": "code",
   "execution_count": 689,
   "id": "ff1cac78",
   "metadata": {},
   "outputs": [
    {
     "name": "stdout",
     "output_type": "stream",
     "text": [
      "Mode (modus) Sale Price di 5 Borough New York adalah 10.0\n"
     ]
    }
   ],
   "source": [
    "mode_sale_price = df[\"SALE PRICE\"].mode()\n",
    "print(\"Mode (modus) Sale Price di 5 Borough New York adalah {}\".format(mode_sale_price[0]))"
   ]
  },
  {
   "cell_type": "markdown",
   "id": "6ed1654c",
   "metadata": {},
   "source": [
    "Mode (modus) Sale Price di setiap Borough di Kota New York"
   ]
  },
  {
   "cell_type": "code",
   "execution_count": 690,
   "id": "867ba02f",
   "metadata": {},
   "outputs": [
    {
     "name": "stdout",
     "output_type": "stream",
     "text": [
      "Mode (modus) Sale Price di Manhattan adalah 10.00\n"
     ]
    }
   ],
   "source": [
    "mode_mht = manhattan[\"SALE PRICE\"].mode()\n",
    "print(\"Mode (modus) Sale Price di Manhattan adalah {:.2f}\".format(mode_mht[0]))"
   ]
  },
  {
   "cell_type": "code",
   "execution_count": 691,
   "id": "9864385a",
   "metadata": {},
   "outputs": [
    {
     "name": "stdout",
     "output_type": "stream",
     "text": [
      "Mode (modus) Sale Price di Bronx adalah 10.00\n"
     ]
    }
   ],
   "source": [
    "mode_brx = bronx[\"SALE PRICE\"].mode()\n",
    "print(\"Mode (modus) Sale Price di Bronx adalah {:.2f}\".format(mode_brx[0]))"
   ]
  },
  {
   "cell_type": "code",
   "execution_count": 692,
   "id": "031d061b",
   "metadata": {},
   "outputs": [
    {
     "name": "stdout",
     "output_type": "stream",
     "text": [
      "Mode (modus) Sale Price di Brooklyn adalah 10.00\n"
     ]
    }
   ],
   "source": [
    "mode_brk = brooklyn[\"SALE PRICE\"].mode()\n",
    "print(\"Mode (modus) Sale Price di Brooklyn adalah {:.2f}\".format(mode_brk[0]))"
   ]
  },
  {
   "cell_type": "code",
   "execution_count": 693,
   "id": "4a42d919",
   "metadata": {},
   "outputs": [
    {
     "name": "stdout",
     "output_type": "stream",
     "text": [
      "Mode (modus) Sale Price di Queens adalah 10.00\n"
     ]
    }
   ],
   "source": [
    "mode_qns = queens[\"SALE PRICE\"].mode()\n",
    "print(\"Mode (modus) Sale Price di Queens adalah {:.2f}\".format(mode_qns[0]))"
   ]
  },
  {
   "cell_type": "code",
   "execution_count": 694,
   "id": "a1c6dfb9",
   "metadata": {},
   "outputs": [
    {
     "name": "stdout",
     "output_type": "stream",
     "text": [
      "Mode (modus) Sale Price di Staten Island adalah 10.00\n"
     ]
    }
   ],
   "source": [
    "mode_si = staten_island[\"SALE PRICE\"].mode()\n",
    "print(\"Mode (modus) Sale Price di Staten Island adalah {:.2f}\".format(mode_si[0]))"
   ]
  },
  {
   "cell_type": "markdown",
   "id": "ae003646",
   "metadata": {},
   "source": [
    "# Measure of Spread"
   ]
  },
  {
   "cell_type": "markdown",
   "id": "b215ac4b",
   "metadata": {},
   "source": [
    "## Range"
   ]
  },
  {
   "cell_type": "code",
   "execution_count": 695,
   "id": "0e7be410",
   "metadata": {},
   "outputs": [
    {
     "name": "stdout",
     "output_type": "stream",
     "text": [
      "Range Sale Price di 5 Borough New York adalah 2209999999.00\n"
     ]
    }
   ],
   "source": [
    "range_sale_price = np.ptp(df[\"SALE PRICE\"])\n",
    "print(\"Range Sale Price di 5 Borough New York adalah {:.2f}\".format(range_sale_price))"
   ]
  },
  {
   "cell_type": "markdown",
   "id": "828777ac",
   "metadata": {},
   "source": [
    "Range Sale Price di setiap Borough di Kota New York"
   ]
  },
  {
   "cell_type": "code",
   "execution_count": 696,
   "id": "66754e56",
   "metadata": {},
   "outputs": [
    {
     "name": "stdout",
     "output_type": "stream",
     "text": [
      "Range Sale Price di Manhattan adalah 2209999999.00\n"
     ]
    }
   ],
   "source": [
    "range_mht = np.ptp(manhattan[\"SALE PRICE\"])\n",
    "print(\"Range Sale Price di Manhattan adalah {:.2f}\".format(range_mht))"
   ]
  },
  {
   "cell_type": "code",
   "execution_count": 697,
   "id": "631f86d9",
   "metadata": {},
   "outputs": [
    {
     "name": "stdout",
     "output_type": "stream",
     "text": [
      "Range Sale Price di Bronx adalah 109999999.00\n"
     ]
    }
   ],
   "source": [
    "range_brx =  np.ptp(bronx[\"SALE PRICE\"])\n",
    "print(\"Range Sale Price di Bronx adalah {:.2f}\".format(range_brx))"
   ]
  },
  {
   "cell_type": "code",
   "execution_count": 698,
   "id": "8748bf2a",
   "metadata": {},
   "outputs": [
    {
     "name": "stdout",
     "output_type": "stream",
     "text": [
      "Range Sale Price di Bronx adalah 154249999.00\n"
     ]
    }
   ],
   "source": [
    "range_brk =  np.ptp(brooklyn[\"SALE PRICE\"])\n",
    "print(\"Range Sale Price di Bronx adalah {:.2f}\".format(range_brk))"
   ]
  },
  {
   "cell_type": "code",
   "execution_count": 699,
   "id": "8516fdfd",
   "metadata": {},
   "outputs": [
    {
     "name": "stdout",
     "output_type": "stream",
     "text": [
      "Range Sale Price di Bronx adalah 257499999.00\n"
     ]
    }
   ],
   "source": [
    "range_qns =  np.ptp(queens[\"SALE PRICE\"])\n",
    "print(\"Range Sale Price di Bronx adalah {:.2f}\".format(range_qns))"
   ]
  },
  {
   "cell_type": "code",
   "execution_count": 700,
   "id": "3d09423e",
   "metadata": {},
   "outputs": [
    {
     "name": "stdout",
     "output_type": "stream",
     "text": [
      "Range Sale Price di Bronx adalah 11899999.00\n"
     ]
    }
   ],
   "source": [
    "range_si =  np.ptp(staten_island[\"SALE PRICE\"])\n",
    "print(\"Range Sale Price di Bronx adalah {:.2f}\".format(range_si))"
   ]
  },
  {
   "cell_type": "markdown",
   "id": "9c87faa5",
   "metadata": {},
   "source": [
    "## Variance"
   ]
  },
  {
   "cell_type": "code",
   "execution_count": 701,
   "id": "1cb1f848",
   "metadata": {},
   "outputs": [
    {
     "name": "stdout",
     "output_type": "stream",
     "text": [
      "Variance sale price di 5 Borough New York adalah 236210399287552.66\n"
     ]
    }
   ],
   "source": [
    "variance_sale_price = statistics.variance(df[\"SALE PRICE\"])\n",
    "print(\"Variance sale price di 5 Borough New York adalah\", variance_sale_price)"
   ]
  },
  {
   "cell_type": "code",
   "execution_count": 702,
   "id": "be1c7a30",
   "metadata": {},
   "outputs": [
    {
     "name": "stdout",
     "output_type": "stream",
     "text": [
      "Variance Residential Unit adalah 317.54\n"
     ]
    }
   ],
   "source": [
    "variance_ru = statistics.variance(df[\"RESIDENTIAL UNITS\"])\n",
    "print(\"Variance Residential Unit adalah {:.2f}\".format(variance_ru))"
   ]
  },
  {
   "cell_type": "code",
   "execution_count": 703,
   "id": "4f9c773f",
   "metadata": {},
   "outputs": [
    {
     "name": "stdout",
     "output_type": "stream",
     "text": [
      "Variance Commercial Unit adalah 151.37\n"
     ]
    }
   ],
   "source": [
    "variance_cu = statistics.variance(df[\"COMMERCIAL UNITS\"])\n",
    "print(\"Variance Commercial Unit adalah {:.2f}\".format(variance_cu))"
   ]
  },
  {
   "cell_type": "code",
   "execution_count": 704,
   "id": "59d51b49",
   "metadata": {},
   "outputs": [
    {
     "name": "stdout",
     "output_type": "stream",
     "text": [
      "Variance Total Unit adalah 474.38\n"
     ]
    }
   ],
   "source": [
    "variance_tot_units = statistics.variance(df[\"TOTAL UNITS\"])\n",
    "print(\"Variance Total Unit adalah {:.2f}\".format(variance_tot_units))"
   ]
  },
  {
   "cell_type": "code",
   "execution_count": 705,
   "id": "11524aa5",
   "metadata": {
    "scrolled": true
   },
   "outputs": [
    {
     "name": "stdout",
     "output_type": "stream",
     "text": [
      "Variance Land Square Feet adalah 923973640.51\n"
     ]
    }
   ],
   "source": [
    "variance_lsf = statistics.variance(df[\"LAND SQUARE FEET\"])\n",
    "print(\"Variance Land Square Feet adalah {:.2f}\".format(variance_lsf))"
   ]
  },
  {
   "cell_type": "code",
   "execution_count": 706,
   "id": "b25f68d5",
   "metadata": {},
   "outputs": [
    {
     "name": "stdout",
     "output_type": "stream",
     "text": [
      "Variance Gross Square Feet adalah 903556402.78\n"
     ]
    }
   ],
   "source": [
    "variance_gsf = statistics.variance(df[\"GROSS SQUARE FEET\"])\n",
    "print(\"Variance Gross Square Feet adalah {:.2f}\".format(variance_gsf))"
   ]
  },
  {
   "cell_type": "markdown",
   "id": "587d495a",
   "metadata": {},
   "source": [
    "## Standard Deviation"
   ]
  },
  {
   "cell_type": "code",
   "execution_count": 707,
   "id": "9056a360",
   "metadata": {},
   "outputs": [
    {
     "name": "stdout",
     "output_type": "stream",
     "text": [
      "Standard Deviation Pale Price di 5 Borough New York adalah 15369137.88\n"
     ]
    }
   ],
   "source": [
    "std_sale_price = statistics.stdev(df[\"SALE PRICE\"])\n",
    "print(\"Standard Deviation Pale Price di 5 Borough New York adalah {:.2f}\".format(std_sale_price))"
   ]
  },
  {
   "cell_type": "code",
   "execution_count": 708,
   "id": "7187a056",
   "metadata": {},
   "outputs": [
    {
     "name": "stdout",
     "output_type": "stream",
     "text": [
      "Standard Deviation Residential Unit adalah 17.82\n"
     ]
    }
   ],
   "source": [
    "std_ru = statistics.stdev(df[\"RESIDENTIAL UNITS\"])\n",
    "print(\"Standard Deviation Residential Unit adalah {:.2f}\".format(std_ru))"
   ]
  },
  {
   "cell_type": "code",
   "execution_count": 709,
   "id": "21231bc3",
   "metadata": {},
   "outputs": [
    {
     "name": "stdout",
     "output_type": "stream",
     "text": [
      "Standard Deviation Commercial Unit adalah 12.30\n"
     ]
    }
   ],
   "source": [
    "std_cu = statistics.stdev(df[\"COMMERCIAL UNITS\"])\n",
    "print(\"Standard Deviation Commercial Unit adalah {:.2f}\".format(std_cu))"
   ]
  },
  {
   "cell_type": "code",
   "execution_count": 710,
   "id": "b5595aad",
   "metadata": {},
   "outputs": [
    {
     "name": "stdout",
     "output_type": "stream",
     "text": [
      "Standard Deviation 'Total Units' adalah 21.78\n"
     ]
    }
   ],
   "source": [
    "std_tot_units = statistics.stdev(df[\"TOTAL UNITS\"])\n",
    "print(\"Standard Deviation 'Total Units' adalah {:.2f}\".format(std_tot_units))"
   ]
  },
  {
   "cell_type": "code",
   "execution_count": 711,
   "id": "4eff90fb",
   "metadata": {},
   "outputs": [
    {
     "name": "stdout",
     "output_type": "stream",
     "text": [
      "Standard Deviation Land Square Feet adalah 30396.93\n"
     ]
    }
   ],
   "source": [
    "std_lsf = statistics.stdev(df[\"LAND SQUARE FEET\"])\n",
    "print(\"Standard Deviation Land Square Feet adalah {:.2f}\".format(std_lsf))"
   ]
  },
  {
   "cell_type": "code",
   "execution_count": 712,
   "id": "9654c0e5",
   "metadata": {},
   "outputs": [
    {
     "name": "stdout",
     "output_type": "stream",
     "text": [
      "Standard Deviation Gross Square Feet adalah 30059.21\n"
     ]
    }
   ],
   "source": [
    "std_gsf = statistics.stdev(df[\"GROSS SQUARE FEET\"])\n",
    "print(\"Standard Deviation Gross Square Feet adalah {:.2f}\".format(std_gsf))"
   ]
  },
  {
   "cell_type": "markdown",
   "id": "32f55016",
   "metadata": {},
   "source": [
    "#  Probability Distribution"
   ]
  },
  {
   "cell_type": "code",
   "execution_count": 713,
   "id": "d75f21ec",
   "metadata": {},
   "outputs": [
    {
     "data": {
      "image/png": "[encoded data removed]",
      "text/plain": [
       "<Figure size 720x360 with 1 Axes>"
      ]
     },
     "metadata": {},
     "output_type": "display_data"
    }
   ],
   "source": [
    "sns.set(color_codes = True)\n",
    "sns.set(rc = {\"figure.figsize\":(10,5)})\n",
    "ax = sns.distplot(df[\"SALE PRICE\"], kde = True, color = \"#0B5E84\", hist_kws={\"linewidth\":20, \"alpha\":0.6})"
   ]
  },
  {
   "cell_type": "markdown",
   "id": "6d5629b6",
   "metadata": {},
   "source": [
    "Mengambil data Sale Price dengan rentang harga 100 hingga 7000000"
   ]
  },
  {
   "cell_type": "code",
   "execution_count": 714,
   "id": "2698b70f",
   "metadata": {
    "scrolled": true
   },
   "outputs": [
    {
     "data": {
      "image/png": "[encoded data removed]",
      "text/plain": [
       "<Figure size 720x360 with 1 Axes>"
      ]
     },
     "metadata": {},
     "output_type": "display_data"
    }
   ],
   "source": [
    "data_sale_price = df[(df[\"SALE PRICE\"] > 100) & (df[\"SALE PRICE\"] < 7000000)][\"SALE PRICE\"]\n",
    "ax = sns.distplot(data_sale_price, bins=100, kde=True, rug=True, color=\"#0B5E84\")"
   ]
  },
  {
   "cell_type": "markdown",
   "id": "805c65d2",
   "metadata": {},
   "source": [
    "# Confidence Intervals"
   ]
  },
  {
   "cell_type": "markdown",
   "id": "4f4b0166",
   "metadata": {},
   "source": [
    "Calculation of Confidence Intervals"
   ]
  },
  {
   "cell_type": "markdown",
   "id": "a0934124",
   "metadata": {},
   "source": [
    "Melihat Mean, Standard Deviation, dan populalsi size"
   ]
  },
  {
   "cell_type": "code",
   "execution_count": 715,
   "id": "532ac27f",
   "metadata": {},
   "outputs": [
    {
     "data": {
      "text/html": [
       "<div>\n",
       "<style scoped>\n",
       "    .dataframe tbody tr th:only-of-type {\n",
       "        vertical-align: middle;\n",
       "    }\n",
       "\n",
       "    .dataframe tbody tr th {\n",
       "        vertical-align: top;\n",
       "    }\n",
       "\n",
       "    .dataframe thead tr th {\n",
       "        text-align: left;\n",
       "    }\n",
       "\n",
       "    .dataframe thead tr:last-of-type th {\n",
       "        text-align: right;\n",
       "    }\n",
       "</style>\n",
       "<table border=\"1\" class=\"dataframe\">\n",
       "  <thead>\n",
       "    <tr>\n",
       "      <th></th>\n",
       "      <th colspan=\"3\" halign=\"left\">SALE PRICE</th>\n",
       "    </tr>\n",
       "    <tr>\n",
       "      <th></th>\n",
       "      <th>mean</th>\n",
       "      <th>std</th>\n",
       "      <th>size</th>\n",
       "    </tr>\n",
       "    <tr>\n",
       "      <th>BOROUGH</th>\n",
       "      <th></th>\n",
       "      <th></th>\n",
       "      <th></th>\n",
       "    </tr>\n",
       "  </thead>\n",
       "  <tbody>\n",
       "    <tr>\n",
       "      <th>Bronx</th>\n",
       "      <td>1.023816e+06</td>\n",
       "      <td>3.804801e+06</td>\n",
       "      <td>3503.0</td>\n",
       "    </tr>\n",
       "    <tr>\n",
       "      <th>Brooklyn</th>\n",
       "      <td>1.506006e+06</td>\n",
       "      <td>4.732968e+06</td>\n",
       "      <td>8619.0</td>\n",
       "    </tr>\n",
       "    <tr>\n",
       "      <th>Manhattan</th>\n",
       "      <td>5.883647e+06</td>\n",
       "      <td>3.710324e+07</td>\n",
       "      <td>5939.0</td>\n",
       "    </tr>\n",
       "    <tr>\n",
       "      <th>Queens</th>\n",
       "      <td>8.818463e+05</td>\n",
       "      <td>3.432667e+06</td>\n",
       "      <td>13044.0</td>\n",
       "    </tr>\n",
       "    <tr>\n",
       "      <th>Staten Island</th>\n",
       "      <td>5.079424e+05</td>\n",
       "      <td>4.598667e+05</td>\n",
       "      <td>5709.0</td>\n",
       "    </tr>\n",
       "  </tbody>\n",
       "</table>\n",
       "</div>"
      ],
      "text/plain": [
       "                 SALE PRICE                       \n",
       "                       mean           std     size\n",
       "BOROUGH                                           \n",
       "Bronx          1.023816e+06  3.804801e+06   3503.0\n",
       "Brooklyn       1.506006e+06  4.732968e+06   8619.0\n",
       "Manhattan      5.883647e+06  3.710324e+07   5939.0\n",
       "Queens         8.818463e+05  3.432667e+06  13044.0\n",
       "Staten Island  5.079424e+05  4.598667e+05   5709.0"
      ]
     },
     "execution_count": 715,
     "metadata": {},
     "output_type": "execute_result"
    }
   ],
   "source": [
    "df.groupby(\"BOROUGH\").agg({\"SALE PRICE\": [np.mean, np.std, np.size]})"
   ]
  },
  {
   "cell_type": "code",
   "execution_count": 716,
   "id": "0a60b602",
   "metadata": {},
   "outputs": [],
   "source": [
    "# Manhattan\n",
    "\n",
    "mean_mht = 5883647.47   #Mean Sale Price of Manhattan\n",
    "sd = 37103241.57        #Standard deviation for Manhattan population\n",
    "n = 5939                #Total number of Manhattan\n",
    "z = 1.96                #z-score from the z table mentioned before\n",
    "se = sd / np.sqrt(n)    #Calculate the standard error using the formula for the standard error of the mean"
   ]
  },
  {
   "cell_type": "markdown",
   "id": "6d997abe",
   "metadata": {},
   "source": [
    "Construct the CI"
   ]
  },
  {
   "cell_type": "code",
   "execution_count": 717,
   "id": "0471ccb7",
   "metadata": {},
   "outputs": [
    {
     "name": "stdout",
     "output_type": "stream",
     "text": [
      "CI adalah 4939996.778131185 dan 6827298.161868814\n"
     ]
    }
   ],
   "source": [
    "lcb = mean_mht - z* se #lower limit of the CI\n",
    "ucb = mean_mht + z* se #upper limit of the CI\n",
    "print(\"CI adalah {} dan {}\".format(lcb, ucb))"
   ]
  },
  {
   "cell_type": "markdown",
   "id": "28032428",
   "metadata": {},
   "source": [
    "# Hypothesis Testing"
   ]
  },
  {
   "cell_type": "code",
   "execution_count": 718,
   "id": "21e706d8",
   "metadata": {},
   "outputs": [],
   "source": [
    "# Creating the dataset\n",
    "manhattan = df[df[\"BOROUGH\"] == \"Manhattan\"]\n",
    "staten_island = df[df[\"BOROUGH\"] == \"Staten Island\"]"
   ]
  },
  {
   "cell_type": "code",
   "execution_count": 719,
   "id": "431be239",
   "metadata": {},
   "outputs": [
    {
     "name": "stdout",
     "output_type": "stream",
     "text": [
      "Mean: 5883647.468092271\n",
      "Standard Deviation: 37103241.57039265\n",
      "Baris Data Manhattan: 5939\n"
     ]
    }
   ],
   "source": [
    "mean_mht = manhattan[\"SALE PRICE\"].mean()\n",
    "sd_mht = manhattan[\"SALE PRICE\"].std()\n",
    "print(\"Mean:\", mean_mht)\n",
    "print(\"Standard Deviation:\", sd_mht)\n",
    "print(\"Baris Data Manhattan:\", len(manhattan))"
   ]
  },
  {
   "cell_type": "code",
   "execution_count": 720,
   "id": "8fbf29cf",
   "metadata": {},
   "outputs": [
    {
     "name": "stdout",
     "output_type": "stream",
     "text": [
      "Mean: 507942.4307234192\n",
      "Standard Deviation: 459866.71606953867\n",
      "Baris Data Staten Island: 5709\n"
     ]
    }
   ],
   "source": [
    "mean_si = staten_island[\"SALE PRICE\"].mean()\n",
    "sd_si = staten_island[\"SALE PRICE\"].std()\n",
    "print(\"Mean:\", mean_si)\n",
    "print(\"Standard Deviation:\", sd_si)\n",
    "print(\"Baris Data Staten Island:\", len(staten_island))"
   ]
  },
  {
   "cell_type": "code",
   "execution_count": 721,
   "id": "0147beb2",
   "metadata": {},
   "outputs": [
    {
     "data": {
      "text/plain": [
       "(10.946387385078022, 6.915084003615056e-28)"
      ]
     },
     "execution_count": 721,
     "metadata": {},
     "output_type": "execute_result"
    }
   ],
   "source": [
    "sm.stats.ztest(manhattan[\"SALE PRICE\"], staten_island[\"SALE PRICE\"], alternative=\"two-sided\")"
   ]
  },
  {
   "cell_type": "markdown",
   "id": "732351d5",
   "metadata": {},
   "source": [
    "Karena p-value (6.91e-28) sangat kecil dan kurang dari 0.05, maka hipotesis nol ditolak."
   ]
  },
  {
   "cell_type": "code",
   "execution_count": 722,
   "id": "8a726309",
   "metadata": {},
   "outputs": [
    {
     "data": {
      "image/png": "[encoded data removed]",
      "text/plain": [
       "<Figure size 504x288 with 1 Axes>"
      ]
     },
     "metadata": {},
     "output_type": "display_data"
    },
    {
     "data": {
      "image/png": "[encoded data removed]",
      "text/plain": [
       "<Figure size 504x288 with 1 Axes>"
      ]
     },
     "metadata": {},
     "output_type": "display_data"
    }
   ],
   "source": [
    "import matplotlib.pyplot as plt\n",
    "plt.figure(figsize=(7,4))\n",
    "plt.title(\"Manhattan\")\n",
    "plt.hist(manhattan[\"SALE PRICE\"], edgecolor = \"k\", color = \"#e06969\", bins = 25)\n",
    "plt.show()\n",
    "\n",
    "plt.figure(figsize=(7,4))\n",
    "plt.title(\"Staten Island\")\n",
    "plt.hist(staten_island[\"SALE PRICE\"], edgecolor = \"k\", color = \"#8f6179\", bins = 25)\n",
    "plt.show()\n"
   ]
  },
  {
   "cell_type": "markdown",
   "id": "b0d6adf3",
   "metadata": {},
   "source": [
    "Normality Test"
   ]
  },
  {
   "cell_type": "code",
   "execution_count": 723,
   "id": "0e606a2b",
   "metadata": {},
   "outputs": [],
   "source": [
    "data = df[\"SALE PRICE\"]"
   ]
  },
  {
   "cell_type": "code",
   "execution_count": 724,
   "id": "f230e465",
   "metadata": {},
   "outputs": [
    {
     "name": "stdout",
     "output_type": "stream",
     "text": [
      "stat=0.040, p=0.000\n",
      "Probably not Gaussian\n"
     ]
    }
   ],
   "source": [
    "# Shapiro Wilk Test\n",
    "stat, p = shapiro(data)\n",
    "print(\"stat=%.3f, p=%.3f\" % (stat, p))\n",
    "if p > 0.05:\n",
    "    print(\"Probably Gaussian\")\n",
    "else:\n",
    "    print(\"Probably not Gaussian\")"
   ]
  },
  {
   "cell_type": "code",
   "execution_count": 725,
   "id": "b7ec3fca",
   "metadata": {},
   "outputs": [
    {
     "name": "stdout",
     "output_type": "stream",
     "text": [
      "stat=144264.906, p=0.000\n",
      "Probably not Gaussian\n"
     ]
    }
   ],
   "source": [
    "# D'Agostino's K^2 Test\n",
    "stat, p = normaltest(data)\n",
    "print(\"stat=%.3f, p=%.3f\" % (stat, p))\n",
    "if p > 0.05:\n",
    "    print(\"Probably Gaussian\")\n",
    "else:\n",
    "    print(\"Probably not Gaussian\")"
   ]
  },
  {
   "cell_type": "code",
   "execution_count": 726,
   "id": "c5164c55",
   "metadata": {
    "scrolled": true
   },
   "outputs": [
    {
     "name": "stdout",
     "output_type": "stream",
     "text": [
      "stat=11669.261\n",
      "Probbaly not gaussian at the 15.0% level\n",
      "Probbaly not gaussian at the 10.0% level\n",
      "Probbaly not gaussian at the 5.0% level\n",
      "Probbaly not gaussian at the 2.5% level\n",
      "Probbaly not gaussian at the 1.0% level\n"
     ]
    }
   ],
   "source": [
    "# Anderson-Darling Test\n",
    "data = df[\"SALE PRICE\"]\n",
    "result = anderson(data)\n",
    "print(\"stat=%.3f\" % (result.statistic))\n",
    "for i in range(len(result.critical_values)):\n",
    "    sl, cv = result.significance_level[i], result.critical_values[i]\n",
    "    if result.statistic < cv:\n",
    "        print(\"Probbaly gaussian at the %.1f%% level\" % (sl))\n",
    "    else:\n",
    "        print(\"Probbaly not gaussian at the %.1f%% level\" % (sl))"
   ]
  }
 ],
 "metadata": {
  "kernelspec": {
   "display_name": "Python 3",
   "language": "python",
   "name": "python3"
  },
  "language_info": {
   "codemirror_mode": {
    "name": "ipython",
    "version": 3
   },
   "file_extension": ".py",
   "mimetype": "text/x-python",
   "name": "python",
   "nbconvert_exporter": "python",
   "pygments_lexer": "ipython3",
   "version": "3.8.8"
  },
  "toc": {
   "base_numbering": 1,
   "nav_menu": {},
   "number_sections": true,
   "sideBar": true,
   "skip_h1_title": false,
   "title_cell": "Table of Contents",
   "title_sidebar": "Contents",
   "toc_cell": false,
   "toc_position": {
    "height": "calc(100% - 180px)",
    "left": "10px",
    "top": "150px",
    "width": "234px"
   },
   "toc_section_display": true,
   "toc_window_display": true
  }
 },
 "nbformat": 4,
 "nbformat_minor": 5
}
